{
  "nbformat": 4,
  "nbformat_minor": 0,
  "metadata": {
    "colab": {
      "provenance": []
    },
    "kernelspec": {
      "name": "python3",
      "display_name": "Python 3"
    },
    "language_info": {
      "name": "python"
    },
    "accelerator": "GPU",
    "gpuClass": "standard"
  },
  "cells": [
    {
      "cell_type": "code",
      "execution_count": 1,
      "metadata": {
        "id": "AaP8XgyvnDRo"
      },
      "outputs": [],
      "source": [
        "# Jai Shree Ganesh Ji"
      ]
    },
    {
      "cell_type": "code",
      "source": [
        "!git clone https://github.com/tsshubhamv/GANInverter.git"
      ],
      "metadata": {
        "colab": {
          "base_uri": "https://localhost:8080/"
        },
        "id": "qtl71S_OoKKR",
        "outputId": "8b9c432b-03f4-40df-f35e-8e5d3b2900dc"
      },
      "execution_count": 2,
      "outputs": [
        {
          "output_type": "stream",
          "name": "stdout",
          "text": [
            "Cloning into 'GANInverter'...\n",
            "remote: Enumerating objects: 578, done.\u001b[K\n",
            "remote: Counting objects: 100% (578/578), done.\u001b[K\n",
            "remote: Compressing objects: 100% (347/347), done.\u001b[K\n",
            "remote: Total 578 (delta 307), reused 463 (delta 200), pack-reused 0\u001b[K\n",
            "Receiving objects: 100% (578/578), 4.64 MiB | 5.50 MiB/s, done.\n",
            "Resolving deltas: 100% (307/307), done.\n"
          ]
        }
      ]
    },
    {
      "cell_type": "code",
      "source": [
        "!gdown --id 1e8A0nERJGFVJHuAvVnrn9td5UdB7o2hm # download datasets images"
      ],
      "metadata": {
        "colab": {
          "base_uri": "https://localhost:8080/"
        },
        "id": "Em-auaE1oSda",
        "outputId": "253cfe5c-f875-41b5-82b6-687ac953e5dd"
      },
      "execution_count": 3,
      "outputs": [
        {
          "output_type": "stream",
          "name": "stdout",
          "text": [
            "/usr/local/lib/python3.9/dist-packages/gdown/cli.py:121: FutureWarning: Option `--id` was deprecated in version 4.3.1 and will be removed in 5.0. You don't need to pass it anymore to use a file ID.\n",
            "  warnings.warn(\n",
            "Downloading...\n",
            "From: https://drive.google.com/uc?id=1e8A0nERJGFVJHuAvVnrn9td5UdB7o2hm\n",
            "To: /content/seg-mouth-images-sq.zip\n",
            "100% 524M/524M [00:02<00:00, 242MB/s]\n"
          ]
        }
      ]
    },
    {
      "cell_type": "code",
      "source": [
        "!gdown --id 1qpUKtrNu_2Z2VfEGxPmjoN4ixErPlIbE # download tarined weights "
      ],
      "metadata": {
        "colab": {
          "base_uri": "https://localhost:8080/"
        },
        "id": "RgezJbsKonYg",
        "outputId": "1800eb1b-b446-46c1-d30f-864349514f15"
      },
      "execution_count": 4,
      "outputs": [
        {
          "output_type": "stream",
          "name": "stdout",
          "text": [
            "/usr/local/lib/python3.9/dist-packages/gdown/cli.py:121: FutureWarning: Option `--id` was deprecated in version 4.3.1 and will be removed in 5.0. You don't need to pass it anymore to use a file ID.\n",
            "  warnings.warn(\n",
            "Downloading...\n",
            "From: https://drive.google.com/uc?id=1qpUKtrNu_2Z2VfEGxPmjoN4ixErPlIbE\n",
            "To: /content/network-snapshot-000806-final.pkl\n",
            "100% 296M/296M [00:01<00:00, 259MB/s]\n"
          ]
        }
      ]
    },
    {
      "cell_type": "code",
      "source": [
        "!git clone https://github.com/dvschultz/stylegan2-ada-pytorch.git sg2-ada-dvschultz"
      ],
      "metadata": {
        "colab": {
          "base_uri": "https://localhost:8080/"
        },
        "id": "JEFXrqMtorK-",
        "outputId": "3145bd6a-1fc6-4c07-fdb2-9346682ecacf"
      },
      "execution_count": 5,
      "outputs": [
        {
          "output_type": "stream",
          "name": "stdout",
          "text": [
            "Cloning into 'sg2-ada-dvschultz'...\n",
            "remote: Enumerating objects: 544, done.\u001b[K\n",
            "remote: Total 544 (delta 0), reused 0 (delta 0), pack-reused 544\u001b[K\n",
            "Receiving objects: 100% (544/544), 8.42 MiB | 17.59 MiB/s, done.\n",
            "Resolving deltas: 100% (308/308), done.\n"
          ]
        }
      ]
    },
    {
      "cell_type": "code",
      "source": [
        "!mkdir -p GANInverter/artifacts\n",
        "!mkdir -p GANInverter/data/smile_256\n",
        "!mkdir -p GANInverter/experiments/optim/smile_256"
      ],
      "metadata": {
        "id": "zgfDRtY3pcHy"
      },
      "execution_count": 6,
      "outputs": []
    },
    {
      "cell_type": "code",
      "source": [
        "!python /content/sg2-ada-dvschultz/export_weights.py /content/network-snapshot-000806-final.pkl /content/GANInverter/artifacts/sg2-ml-smile_256_ot.pt"
      ],
      "metadata": {
        "id": "VFwQTsR1o8tg"
      },
      "execution_count": 7,
      "outputs": []
    },
    {
      "cell_type": "code",
      "source": [
        "!gdown --id 1ihmm34Gpvn1ojmUvO2MabgKRi3Ra3A7g"
      ],
      "metadata": {
        "colab": {
          "base_uri": "https://localhost:8080/"
        },
        "id": "zmQk1zbJ9U1O",
        "outputId": "74220d7c-361c-491a-e0ef-d2920b42f65b"
      },
      "execution_count": 8,
      "outputs": [
        {
          "output_type": "stream",
          "name": "stdout",
          "text": [
            "/usr/local/lib/python3.9/dist-packages/gdown/cli.py:121: FutureWarning: Option `--id` was deprecated in version 4.3.1 and will be removed in 5.0. You don't need to pass it anymore to use a file ID.\n",
            "  warnings.warn(\n",
            "Downloading...\n",
            "From: https://drive.google.com/uc?id=1ihmm34Gpvn1ojmUvO2MabgKRi3Ra3A7g\n",
            "To: /content/GANInverter/sg2-ada-smile.pt\n",
            "100% 99.8M/99.8M [00:01<00:00, 50.5MB/s]\n"
          ]
        }
      ]
    },
    {
      "cell_type": "code",
      "source": [
        "!cp sg2-ada-smile.pt ./artifacts/"
      ],
      "metadata": {
        "id": "KcoPUs7z9pFZ"
      },
      "execution_count": 14,
      "outputs": []
    },
    {
      "cell_type": "code",
      "source": [
        "%cd /content/GANInverter/"
      ],
      "metadata": {
        "colab": {
          "base_uri": "https://localhost:8080/"
        },
        "id": "UVprs-LAp1YF",
        "outputId": "d8df6f3f-7921-426a-8dba-697f021f710c"
      },
      "execution_count": 8,
      "outputs": [
        {
          "output_type": "stream",
          "name": "stdout",
          "text": [
            "/content/GANInverter\n"
          ]
        }
      ]
    },
    {
      "cell_type": "code",
      "source": [
        "!git pull"
      ],
      "metadata": {
        "colab": {
          "base_uri": "https://localhost:8080/"
        },
        "id": "daHF0Y9K069Y",
        "outputId": "ef325f31-727d-46cc-e3c2-74c6974c1447"
      },
      "execution_count": 14,
      "outputs": [
        {
          "output_type": "stream",
          "name": "stdout",
          "text": [
            "remote: Enumerating objects: 9, done.\u001b[K\n",
            "remote: Counting objects:  11% (1/9)\u001b[K\rremote: Counting objects:  22% (2/9)\u001b[K\rremote: Counting objects:  33% (3/9)\u001b[K\rremote: Counting objects:  44% (4/9)\u001b[K\rremote: Counting objects:  55% (5/9)\u001b[K\rremote: Counting objects:  66% (6/9)\u001b[K\rremote: Counting objects:  77% (7/9)\u001b[K\rremote: Counting objects:  88% (8/9)\u001b[K\rremote: Counting objects: 100% (9/9)\u001b[K\rremote: Counting objects: 100% (9/9), done.\u001b[K\n",
            "remote: Compressing objects:  50% (1/2)\u001b[K\rremote: Compressing objects: 100% (2/2)\u001b[K\rremote: Compressing objects: 100% (2/2), done.\u001b[K\n",
            "remote: Total 5 (delta 3), reused 5 (delta 3), pack-reused 0\u001b[K\n",
            "Unpacking objects:  20% (1/5)\rUnpacking objects:  40% (2/5)\rUnpacking objects:  60% (3/5)\rUnpacking objects:  80% (4/5)\rUnpacking objects: 100% (5/5)\rUnpacking objects: 100% (5/5), 484 bytes | 242.00 KiB/s, done.\n",
            "From https://github.com/tsshubhamv/GANInverter\n",
            "   a4a9f9c..148de4f  main       -> origin/main\n",
            "Updating a4a9f9c..148de4f\n",
            "Fast-forward\n",
            " models/stylegan2/model.py | 3 \u001b[32m++\u001b[m\u001b[31m-\u001b[m\n",
            " 1 file changed, 2 insertions(+), 1 deletion(-)\n"
          ]
        }
      ]
    },
    {
      "cell_type": "code",
      "source": [
        "!rm -rf data/smile_256"
      ],
      "metadata": {
        "id": "0QNB08V7RNak"
      },
      "execution_count": 21,
      "outputs": []
    },
    {
      "cell_type": "code",
      "source": [
        "!unzip -Z1 /content/seg-mouth-images-sq.zip | head -1 | sed 's| |\\\\ |g' | xargs unzip /content/seg-mouth-images-sq.zip -d data/smile_256/\n"
      ],
      "metadata": {
        "colab": {
          "base_uri": "https://localhost:8080/"
        },
        "id": "7WAOO0YfrxrD",
        "outputId": "9b5f1fd1-c522-4058-c87c-08171a3ed0fc"
      },
      "execution_count": 22,
      "outputs": [
        {
          "output_type": "stream",
          "name": "stdout",
          "text": [
            "Archive:  /content/seg-mouth-images-sq.zip\n",
            "  inflating: data/smile_256/1668002814072_WhatsApp_Image_2022_11_07_at_11_37_27@&@mouth_256x256.jpeg  \n"
          ]
        }
      ]
    },
    {
      "cell_type": "code",
      "source": [
        "!pip install -r requirements.txt"
      ],
      "metadata": {
        "colab": {
          "base_uri": "https://localhost:8080/"
        },
        "id": "VO61JW2nqsxH",
        "outputId": "d67a51df-f62d-44be-fcde-9bf0c373dfb9"
      },
      "execution_count": 11,
      "outputs": [
        {
          "output_type": "stream",
          "name": "stdout",
          "text": [
            "Looking in indexes: https://pypi.org/simple, https://us-python.pkg.dev/colab-wheels/public/simple/\n",
            "Collecting loguru\n",
            "  Downloading loguru-0.6.0-py3-none-any.whl (58 kB)\n",
            "\u001b[2K     \u001b[90m━━━━━━━━━━━━━━━━━━━━━━━━━━━━━━━━━━━━━━━━\u001b[0m \u001b[32m58.3/58.3 KB\u001b[0m \u001b[31m6.2 MB/s\u001b[0m eta \u001b[36m0:00:00\u001b[0m\n",
            "\u001b[?25hRequirement already satisfied: matplotlib in /usr/local/lib/python3.9/dist-packages (from -r requirements.txt (line 2)) (3.7.1)\n",
            "Collecting ninja\n",
            "  Downloading ninja-1.11.1-py2.py3-none-manylinux_2_12_x86_64.manylinux2010_x86_64.whl (145 kB)\n",
            "\u001b[2K     \u001b[90m━━━━━━━━━━━━━━━━━━━━━━━━━━━━━━━━━━━━━━\u001b[0m \u001b[32m146.0/146.0 KB\u001b[0m \u001b[31m18.3 MB/s\u001b[0m eta \u001b[36m0:00:00\u001b[0m\n",
            "\u001b[?25hRequirement already satisfied: opencv-python in /usr/local/lib/python3.9/dist-packages (from -r requirements.txt (line 4)) (4.7.0.72)\n",
            "Requirement already satisfied: pyyaml in /usr/local/lib/python3.9/dist-packages (from -r requirements.txt (line 5)) (6.0)\n",
            "Collecting wandb\n",
            "  Downloading wandb-0.14.0-py3-none-any.whl (2.0 MB)\n",
            "\u001b[2K     \u001b[90m━━━━━━━━━━━━━━━━━━━━━━━━━━━━━━━━━━━━━━━━\u001b[0m \u001b[32m2.0/2.0 MB\u001b[0m \u001b[31m74.5 MB/s\u001b[0m eta \u001b[36m0:00:00\u001b[0m\n",
            "\u001b[?25hRequirement already satisfied: packaging>=20.0 in /usr/local/lib/python3.9/dist-packages (from matplotlib->-r requirements.txt (line 2)) (23.0)\n",
            "Requirement already satisfied: python-dateutil>=2.7 in /usr/local/lib/python3.9/dist-packages (from matplotlib->-r requirements.txt (line 2)) (2.8.2)\n",
            "Requirement already satisfied: importlib-resources>=3.2.0 in /usr/local/lib/python3.9/dist-packages (from matplotlib->-r requirements.txt (line 2)) (5.12.0)\n",
            "Requirement already satisfied: numpy>=1.20 in /usr/local/lib/python3.9/dist-packages (from matplotlib->-r requirements.txt (line 2)) (1.22.4)\n",
            "Requirement already satisfied: pyparsing>=2.3.1 in /usr/local/lib/python3.9/dist-packages (from matplotlib->-r requirements.txt (line 2)) (3.0.9)\n",
            "Requirement already satisfied: cycler>=0.10 in /usr/local/lib/python3.9/dist-packages (from matplotlib->-r requirements.txt (line 2)) (0.11.0)\n",
            "Requirement already satisfied: fonttools>=4.22.0 in /usr/local/lib/python3.9/dist-packages (from matplotlib->-r requirements.txt (line 2)) (4.39.2)\n",
            "Requirement already satisfied: kiwisolver>=1.0.1 in /usr/local/lib/python3.9/dist-packages (from matplotlib->-r requirements.txt (line 2)) (1.4.4)\n",
            "Requirement already satisfied: contourpy>=1.0.1 in /usr/local/lib/python3.9/dist-packages (from matplotlib->-r requirements.txt (line 2)) (1.0.7)\n",
            "Requirement already satisfied: pillow>=6.2.0 in /usr/local/lib/python3.9/dist-packages (from matplotlib->-r requirements.txt (line 2)) (8.4.0)\n",
            "Requirement already satisfied: setuptools in /usr/local/lib/python3.9/dist-packages (from wandb->-r requirements.txt (line 6)) (67.6.0)\n",
            "Collecting docker-pycreds>=0.4.0\n",
            "  Downloading docker_pycreds-0.4.0-py2.py3-none-any.whl (9.0 kB)\n",
            "Requirement already satisfied: psutil>=5.0.0 in /usr/local/lib/python3.9/dist-packages (from wandb->-r requirements.txt (line 6)) (5.9.4)\n",
            "Collecting pathtools\n",
            "  Downloading pathtools-0.1.2.tar.gz (11 kB)\n",
            "  Preparing metadata (setup.py) ... \u001b[?25l\u001b[?25hdone\n",
            "Collecting setproctitle\n",
            "  Downloading setproctitle-1.3.2-cp39-cp39-manylinux_2_5_x86_64.manylinux1_x86_64.manylinux_2_17_x86_64.manylinux2014_x86_64.whl (30 kB)\n",
            "Requirement already satisfied: protobuf!=4.21.0,<5,>=3.15.0 in /usr/local/lib/python3.9/dist-packages (from wandb->-r requirements.txt (line 6)) (3.19.6)\n",
            "Collecting GitPython!=3.1.29,>=1.0.0\n",
            "  Downloading GitPython-3.1.31-py3-none-any.whl (184 kB)\n",
            "\u001b[2K     \u001b[90m━━━━━━━━━━━━━━━━━━━━━━━━━━━━━━━━━━━━━━\u001b[0m \u001b[32m184.3/184.3 KB\u001b[0m \u001b[31m22.0 MB/s\u001b[0m eta \u001b[36m0:00:00\u001b[0m\n",
            "\u001b[?25hRequirement already satisfied: requests<3,>=2.0.0 in /usr/local/lib/python3.9/dist-packages (from wandb->-r requirements.txt (line 6)) (2.27.1)\n",
            "Requirement already satisfied: Click!=8.0.0,>=7.0 in /usr/local/lib/python3.9/dist-packages (from wandb->-r requirements.txt (line 6)) (8.1.3)\n",
            "Requirement already satisfied: typing-extensions in /usr/local/lib/python3.9/dist-packages (from wandb->-r requirements.txt (line 6)) (4.5.0)\n",
            "Collecting sentry-sdk>=1.0.0\n",
            "  Downloading sentry_sdk-1.17.0-py2.py3-none-any.whl (189 kB)\n",
            "\u001b[2K     \u001b[90m━━━━━━━━━━━━━━━━━━━━━━━━━━━━━━━━━━━━━━\u001b[0m \u001b[32m189.1/189.1 KB\u001b[0m \u001b[31m22.9 MB/s\u001b[0m eta \u001b[36m0:00:00\u001b[0m\n",
            "\u001b[?25hRequirement already satisfied: appdirs>=1.4.3 in /usr/local/lib/python3.9/dist-packages (from wandb->-r requirements.txt (line 6)) (1.4.4)\n",
            "Requirement already satisfied: six>=1.4.0 in /usr/local/lib/python3.9/dist-packages (from docker-pycreds>=0.4.0->wandb->-r requirements.txt (line 6)) (1.16.0)\n",
            "Collecting gitdb<5,>=4.0.1\n",
            "  Downloading gitdb-4.0.10-py3-none-any.whl (62 kB)\n",
            "\u001b[2K     \u001b[90m━━━━━━━━━━━━━━━━━━━━━━━━━━━━━━━━━━━━━━━━\u001b[0m \u001b[32m62.7/62.7 KB\u001b[0m \u001b[31m7.7 MB/s\u001b[0m eta \u001b[36m0:00:00\u001b[0m\n",
            "\u001b[?25hRequirement already satisfied: zipp>=3.1.0 in /usr/local/lib/python3.9/dist-packages (from importlib-resources>=3.2.0->matplotlib->-r requirements.txt (line 2)) (3.15.0)\n",
            "Requirement already satisfied: urllib3<1.27,>=1.21.1 in /usr/local/lib/python3.9/dist-packages (from requests<3,>=2.0.0->wandb->-r requirements.txt (line 6)) (1.26.15)\n",
            "Requirement already satisfied: certifi>=2017.4.17 in /usr/local/lib/python3.9/dist-packages (from requests<3,>=2.0.0->wandb->-r requirements.txt (line 6)) (2022.12.7)\n",
            "Requirement already satisfied: charset-normalizer~=2.0.0 in /usr/local/lib/python3.9/dist-packages (from requests<3,>=2.0.0->wandb->-r requirements.txt (line 6)) (2.0.12)\n",
            "Requirement already satisfied: idna<4,>=2.5 in /usr/local/lib/python3.9/dist-packages (from requests<3,>=2.0.0->wandb->-r requirements.txt (line 6)) (3.4)\n",
            "Collecting smmap<6,>=3.0.1\n",
            "  Downloading smmap-5.0.0-py3-none-any.whl (24 kB)\n",
            "Building wheels for collected packages: pathtools\n",
            "  Building wheel for pathtools (setup.py) ... \u001b[?25l\u001b[?25hdone\n",
            "  Created wheel for pathtools: filename=pathtools-0.1.2-py3-none-any.whl size=8807 sha256=8219e9ed0a1f87cb38da0c7de2ed928952300823feb1bf3f4a9e7e2fec76df62\n",
            "  Stored in directory: /root/.cache/pip/wheels/b7/0a/67/ada2a22079218c75a88361c0782855cc72aebc4d18d0289d05\n",
            "Successfully built pathtools\n",
            "Installing collected packages: pathtools, ninja, smmap, setproctitle, sentry-sdk, loguru, docker-pycreds, gitdb, GitPython, wandb\n",
            "Successfully installed GitPython-3.1.31 docker-pycreds-0.4.0 gitdb-4.0.10 loguru-0.6.0 ninja-1.11.1 pathtools-0.1.2 sentry-sdk-1.17.0 setproctitle-1.3.2 smmap-5.0.0 wandb-0.14.0\n"
          ]
        }
      ]
    },
    {
      "cell_type": "code",
      "source": [
        "!pip install -r utils/facer/requirements.txt"
      ],
      "metadata": {
        "colab": {
          "base_uri": "https://localhost:8080/"
        },
        "id": "ifRz7NScrQ9j",
        "outputId": "8d769d6a-0859-40d9-9dd5-b2e1a62e74d9"
      },
      "execution_count": 12,
      "outputs": [
        {
          "output_type": "stream",
          "name": "stdout",
          "text": [
            "Looking in indexes: https://pypi.org/simple, https://us-python.pkg.dev/colab-wheels/public/simple/\n",
            "Requirement already satisfied: torch in /usr/local/lib/python3.9/dist-packages (from -r utils/facer/requirements.txt (line 1)) (1.13.1+cu116)\n",
            "Requirement already satisfied: pillow in /usr/local/lib/python3.9/dist-packages (from -r utils/facer/requirements.txt (line 2)) (8.4.0)\n",
            "Requirement already satisfied: numpy in /usr/local/lib/python3.9/dist-packages (from -r utils/facer/requirements.txt (line 3)) (1.22.4)\n",
            "Requirement already satisfied: ipywidgets in /usr/local/lib/python3.9/dist-packages (from -r utils/facer/requirements.txt (line 4)) (7.7.1)\n",
            "Requirement already satisfied: scikit-image in /usr/local/lib/python3.9/dist-packages (from -r utils/facer/requirements.txt (line 5)) (0.19.3)\n",
            "Requirement already satisfied: matplotlib in /usr/local/lib/python3.9/dist-packages (from -r utils/facer/requirements.txt (line 6)) (3.7.1)\n",
            "Collecting validators\n",
            "  Downloading validators-0.20.0.tar.gz (30 kB)\n",
            "  Preparing metadata (setup.py) ... \u001b[?25l\u001b[?25hdone\n",
            "\u001b[31mERROR: Could not find a version that satisfies the requirement colorsys (from versions: none)\u001b[0m\u001b[31m\n",
            "\u001b[0m\u001b[31mERROR: No matching distribution found for colorsys\u001b[0m\u001b[31m\n",
            "\u001b[0m"
          ]
        }
      ]
    },
    {
      "cell_type": "code",
      "source": [
        "!pip install validators"
      ],
      "metadata": {
        "colab": {
          "base_uri": "https://localhost:8080/"
        },
        "id": "CLpwkTWPrl-w",
        "outputId": "22dedaae-bd31-491d-be91-06bdebf4e5ac"
      },
      "execution_count": 13,
      "outputs": [
        {
          "output_type": "stream",
          "name": "stdout",
          "text": [
            "Looking in indexes: https://pypi.org/simple, https://us-python.pkg.dev/colab-wheels/public/simple/\n",
            "Collecting validators\n",
            "  Using cached validators-0.20.0.tar.gz (30 kB)\n",
            "  Preparing metadata (setup.py) ... \u001b[?25l\u001b[?25hdone\n",
            "Requirement already satisfied: decorator>=3.4.0 in /usr/local/lib/python3.9/dist-packages (from validators) (4.4.2)\n",
            "Building wheels for collected packages: validators\n",
            "  Building wheel for validators (setup.py) ... \u001b[?25l\u001b[?25hdone\n",
            "  Created wheel for validators: filename=validators-0.20.0-py3-none-any.whl size=19579 sha256=0864b833a99b380ef119766f9c7b42cc6052c74f4a605c2986b18fccf17e5466\n",
            "  Stored in directory: /root/.cache/pip/wheels/2d/f0/a8/1094fca7a7e5d0d12ff56e0c64675d72aa5cc81a5fc200e849\n",
            "Successfully built validators\n",
            "Installing collected packages: validators\n",
            "Successfully installed validators-0.20.0\n"
          ]
        }
      ]
    },
    {
      "cell_type": "code",
      "source": [
        "!python scripts/infer.py -c configs/optim/optim_smile_256.yaml --embed_mode=\"optim\" --resolution=256"
      ],
      "metadata": {
        "colab": {
          "base_uri": "https://localhost:8080/"
        },
        "id": "ucNa4OECqAOx",
        "outputId": "4eb38779-94c6-4342-859e-673b5eecb709"
      },
      "execution_count": 23,
      "outputs": [
        {
          "output_type": "stream",
          "name": "stdout",
          "text": [
            "Running Inference with Options Namespace(config=['configs/optim/optim_smile_256.yaml'], exp_dir='experiments/optim/smile_256', resolution=256, transform_type='encodetransforms', train_dataset_path=None, test_dataset_path='data/smile_256/', batch_size=1, test_batch_size=8, workers=0, test_workers=8, auto_resume=True, checkpoint_path=None, stylegan_weights='artifacts/sg2-ml-smile_256.pt', encoder_type='Encoder4Editing', start_from_latent_avg=False, learn_in_w=False, layers=50, embed_mode='optim', refine_mode=None, output_dir=None, save_code=False, save_intermediate=False, save_keys=None, code_path=None, output_resolution=None, mode='inversion', w_plus=True, lr=0.1, optim_step=1000, noise=0.05, noise_ramp=0.75, noise_regularize=100000.0, optim_l2_lambda=0.0002, optim_lpips_lambda=0.5, pti_lr=0.0003, pti_step=800, pti_l2_lambda=1.0, pti_lpips_lambda=1.0, pti_regulizer_lambda=1.0, pti_regulizer_l2_lambda=0.1, pti_regulizer_lpips_lambda=0.1, pti_use_regularization=False, pti_locality_regularization_interval=100, pti_regulizer_alpha=30, pti_latent_ball_num_of_samples=1, dhr_feature_idx=11, dhr_weight_lr=0.0015, dhr_feature_lr=0.09, dhr_weight_step=50, dhr_feature_step=100, dhr_l2_lambda=1.0, dhr_lpips_lambda=1.0, dhr_theta1=0.7, dhr_theta2=0.8, edit_mode='interfacegan', edit_factor=1.0, edit_path='', edit_save_path='', ganspace_directions=[54, 7, 8, 20])\n",
            "Generator(\n",
            "  (style): Sequential(\n",
            "    (0): PixelNorm()\n",
            "    (1): EqualLinear(512, 512)\n",
            "    (2): EqualLinear(512, 512)\n",
            "    (3): EqualLinear(512, 512)\n",
            "    (4): EqualLinear(512, 512)\n",
            "    (5): EqualLinear(512, 512)\n",
            "    (6): EqualLinear(512, 512)\n",
            "    (7): EqualLinear(512, 512)\n",
            "    (8): EqualLinear(512, 512)\n",
            "  )\n",
            "  (input): ConstantInput()\n",
            "  (conv1): StyledConv(\n",
            "    (conv): ModulatedConv2d(512, 512, 3, upsample=False, downsample=False)\n",
            "    (noise): NoiseInjection()\n",
            "    (activate): FusedLeakyReLU()\n",
            "  )\n",
            "  (to_rgb1): ToRGB(\n",
            "    (conv): ModulatedConv2d(512, 3, 1, upsample=False, downsample=False)\n",
            "  )\n",
            "  (convs): ModuleList(\n",
            "    (0): StyledConv(\n",
            "      (conv): ModulatedConv2d(512, 512, 3, upsample=True, downsample=False)\n",
            "      (noise): NoiseInjection()\n",
            "      (activate): FusedLeakyReLU()\n",
            "    )\n",
            "    (1): StyledConv(\n",
            "      (conv): ModulatedConv2d(512, 512, 3, upsample=False, downsample=False)\n",
            "      (noise): NoiseInjection()\n",
            "      (activate): FusedLeakyReLU()\n",
            "    )\n",
            "    (2): StyledConv(\n",
            "      (conv): ModulatedConv2d(512, 512, 3, upsample=True, downsample=False)\n",
            "      (noise): NoiseInjection()\n",
            "      (activate): FusedLeakyReLU()\n",
            "    )\n",
            "    (3): StyledConv(\n",
            "      (conv): ModulatedConv2d(512, 512, 3, upsample=False, downsample=False)\n",
            "      (noise): NoiseInjection()\n",
            "      (activate): FusedLeakyReLU()\n",
            "    )\n",
            "    (4): StyledConv(\n",
            "      (conv): ModulatedConv2d(512, 512, 3, upsample=True, downsample=False)\n",
            "      (noise): NoiseInjection()\n",
            "      (activate): FusedLeakyReLU()\n",
            "    )\n",
            "    (5): StyledConv(\n",
            "      (conv): ModulatedConv2d(512, 512, 3, upsample=False, downsample=False)\n",
            "      (noise): NoiseInjection()\n",
            "      (activate): FusedLeakyReLU()\n",
            "    )\n",
            "    (6): StyledConv(\n",
            "      (conv): ModulatedConv2d(512, 256, 3, upsample=True, downsample=False)\n",
            "      (noise): NoiseInjection()\n",
            "      (activate): FusedLeakyReLU()\n",
            "    )\n",
            "    (7): StyledConv(\n",
            "      (conv): ModulatedConv2d(256, 256, 3, upsample=False, downsample=False)\n",
            "      (noise): NoiseInjection()\n",
            "      (activate): FusedLeakyReLU()\n",
            "    )\n",
            "    (8): StyledConv(\n",
            "      (conv): ModulatedConv2d(256, 128, 3, upsample=True, downsample=False)\n",
            "      (noise): NoiseInjection()\n",
            "      (activate): FusedLeakyReLU()\n",
            "    )\n",
            "    (9): StyledConv(\n",
            "      (conv): ModulatedConv2d(128, 128, 3, upsample=False, downsample=False)\n",
            "      (noise): NoiseInjection()\n",
            "      (activate): FusedLeakyReLU()\n",
            "    )\n",
            "    (10): StyledConv(\n",
            "      (conv): ModulatedConv2d(128, 64, 3, upsample=True, downsample=False)\n",
            "      (noise): NoiseInjection()\n",
            "      (activate): FusedLeakyReLU()\n",
            "    )\n",
            "    (11): StyledConv(\n",
            "      (conv): ModulatedConv2d(64, 64, 3, upsample=False, downsample=False)\n",
            "      (noise): NoiseInjection()\n",
            "      (activate): FusedLeakyReLU()\n",
            "    )\n",
            "  )\n",
            "  (upsamples): ModuleList()\n",
            "  (to_rgbs): ModuleList(\n",
            "    (0): ToRGB(\n",
            "      (upsample): Upsample()\n",
            "      (conv): ModulatedConv2d(512, 3, 1, upsample=False, downsample=False)\n",
            "    )\n",
            "    (1): ToRGB(\n",
            "      (upsample): Upsample()\n",
            "      (conv): ModulatedConv2d(512, 3, 1, upsample=False, downsample=False)\n",
            "    )\n",
            "    (2): ToRGB(\n",
            "      (upsample): Upsample()\n",
            "      (conv): ModulatedConv2d(512, 3, 1, upsample=False, downsample=False)\n",
            "    )\n",
            "    (3): ToRGB(\n",
            "      (upsample): Upsample()\n",
            "      (conv): ModulatedConv2d(256, 3, 1, upsample=False, downsample=False)\n",
            "    )\n",
            "    (4): ToRGB(\n",
            "      (upsample): Upsample()\n",
            "      (conv): ModulatedConv2d(128, 3, 1, upsample=False, downsample=False)\n",
            "    )\n",
            "    (5): ToRGB(\n",
            "      (upsample): Upsample()\n",
            "      (conv): ModulatedConv2d(64, 3, 1, upsample=False, downsample=False)\n",
            "    )\n",
            "  )\n",
            "  (noises): Module()\n",
            ")\n",
            "style.1.weight torch.Size([512, 512])\n",
            "style.1.bias torch.Size([512])\n",
            "style.2.weight torch.Size([512, 512])\n",
            "style.2.bias torch.Size([512])\n",
            "style.3.weight torch.Size([512, 512])\n",
            "style.3.bias torch.Size([512])\n",
            "style.4.weight torch.Size([512, 512])\n",
            "style.4.bias torch.Size([512])\n",
            "style.5.weight torch.Size([512, 512])\n",
            "style.5.bias torch.Size([512])\n",
            "style.6.weight torch.Size([512, 512])\n",
            "style.6.bias torch.Size([512])\n",
            "style.7.weight torch.Size([512, 512])\n",
            "style.7.bias torch.Size([512])\n",
            "style.8.weight torch.Size([512, 512])\n",
            "style.8.bias torch.Size([512])\n",
            "input.input torch.Size([1, 512, 4, 4])\n",
            "conv1.conv.weight torch.Size([1, 512, 512, 3, 3])\n",
            "conv1.conv.modulation.weight torch.Size([512, 512])\n",
            "conv1.conv.modulation.bias torch.Size([512])\n",
            "conv1.noise.weight torch.Size([1])\n",
            "conv1.activate.bias torch.Size([512])\n",
            "to_rgb1.bias torch.Size([1, 3, 1, 1])\n",
            "to_rgb1.conv.weight torch.Size([1, 3, 512, 1, 1])\n",
            "to_rgb1.conv.modulation.weight torch.Size([512, 512])\n",
            "to_rgb1.conv.modulation.bias torch.Size([512])\n",
            "convs.0.conv.weight torch.Size([1, 512, 512, 3, 3])\n",
            "convs.0.conv.blur.kernel torch.Size([4, 4])\n",
            "convs.0.conv.modulation.weight torch.Size([512, 512])\n",
            "convs.0.conv.modulation.bias torch.Size([512])\n",
            "convs.0.noise.weight torch.Size([1])\n",
            "convs.0.activate.bias torch.Size([512])\n",
            "convs.1.conv.weight torch.Size([1, 512, 512, 3, 3])\n",
            "convs.1.conv.modulation.weight torch.Size([512, 512])\n",
            "convs.1.conv.modulation.bias torch.Size([512])\n",
            "convs.1.noise.weight torch.Size([1])\n",
            "convs.1.activate.bias torch.Size([512])\n",
            "convs.2.conv.weight torch.Size([1, 512, 512, 3, 3])\n",
            "convs.2.conv.blur.kernel torch.Size([4, 4])\n",
            "convs.2.conv.modulation.weight torch.Size([512, 512])\n",
            "convs.2.conv.modulation.bias torch.Size([512])\n",
            "convs.2.noise.weight torch.Size([1])\n",
            "convs.2.activate.bias torch.Size([512])\n",
            "convs.3.conv.weight torch.Size([1, 512, 512, 3, 3])\n",
            "convs.3.conv.modulation.weight torch.Size([512, 512])\n",
            "convs.3.conv.modulation.bias torch.Size([512])\n",
            "convs.3.noise.weight torch.Size([1])\n",
            "convs.3.activate.bias torch.Size([512])\n",
            "convs.4.conv.weight torch.Size([1, 512, 512, 3, 3])\n",
            "convs.4.conv.blur.kernel torch.Size([4, 4])\n",
            "convs.4.conv.modulation.weight torch.Size([512, 512])\n",
            "convs.4.conv.modulation.bias torch.Size([512])\n",
            "convs.4.noise.weight torch.Size([1])\n",
            "convs.4.activate.bias torch.Size([512])\n",
            "convs.5.conv.weight torch.Size([1, 512, 512, 3, 3])\n",
            "convs.5.conv.modulation.weight torch.Size([512, 512])\n",
            "convs.5.conv.modulation.bias torch.Size([512])\n",
            "convs.5.noise.weight torch.Size([1])\n",
            "convs.5.activate.bias torch.Size([512])\n",
            "convs.6.conv.weight torch.Size([1, 256, 512, 3, 3])\n",
            "convs.6.conv.blur.kernel torch.Size([4, 4])\n",
            "convs.6.conv.modulation.weight torch.Size([512, 512])\n",
            "convs.6.conv.modulation.bias torch.Size([512])\n",
            "convs.6.noise.weight torch.Size([1])\n",
            "convs.6.activate.bias torch.Size([256])\n",
            "convs.7.conv.weight torch.Size([1, 256, 256, 3, 3])\n",
            "convs.7.conv.modulation.weight torch.Size([256, 512])\n",
            "convs.7.conv.modulation.bias torch.Size([256])\n",
            "convs.7.noise.weight torch.Size([1])\n",
            "convs.7.activate.bias torch.Size([256])\n",
            "convs.8.conv.weight torch.Size([1, 128, 256, 3, 3])\n",
            "convs.8.conv.blur.kernel torch.Size([4, 4])\n",
            "convs.8.conv.modulation.weight torch.Size([256, 512])\n",
            "convs.8.conv.modulation.bias torch.Size([256])\n",
            "convs.8.noise.weight torch.Size([1])\n",
            "convs.8.activate.bias torch.Size([128])\n",
            "convs.9.conv.weight torch.Size([1, 128, 128, 3, 3])\n",
            "convs.9.conv.modulation.weight torch.Size([128, 512])\n",
            "convs.9.conv.modulation.bias torch.Size([128])\n",
            "convs.9.noise.weight torch.Size([1])\n",
            "convs.9.activate.bias torch.Size([128])\n",
            "convs.10.conv.weight torch.Size([1, 64, 128, 3, 3])\n",
            "convs.10.conv.blur.kernel torch.Size([4, 4])\n",
            "convs.10.conv.modulation.weight torch.Size([128, 512])\n",
            "convs.10.conv.modulation.bias torch.Size([128])\n",
            "convs.10.noise.weight torch.Size([1])\n",
            "convs.10.activate.bias torch.Size([64])\n",
            "convs.11.conv.weight torch.Size([1, 64, 64, 3, 3])\n",
            "convs.11.conv.modulation.weight torch.Size([64, 512])\n",
            "convs.11.conv.modulation.bias torch.Size([64])\n",
            "convs.11.noise.weight torch.Size([1])\n",
            "convs.11.activate.bias torch.Size([64])\n",
            "to_rgbs.0.bias torch.Size([1, 3, 1, 1])\n",
            "to_rgbs.0.upsample.kernel torch.Size([4, 4])\n",
            "to_rgbs.0.conv.weight torch.Size([1, 3, 512, 1, 1])\n",
            "to_rgbs.0.conv.modulation.weight torch.Size([512, 512])\n",
            "to_rgbs.0.conv.modulation.bias torch.Size([512])\n",
            "to_rgbs.1.bias torch.Size([1, 3, 1, 1])\n",
            "to_rgbs.1.upsample.kernel torch.Size([4, 4])\n",
            "to_rgbs.1.conv.weight torch.Size([1, 3, 512, 1, 1])\n",
            "to_rgbs.1.conv.modulation.weight torch.Size([512, 512])\n",
            "to_rgbs.1.conv.modulation.bias torch.Size([512])\n",
            "to_rgbs.2.bias torch.Size([1, 3, 1, 1])\n",
            "to_rgbs.2.upsample.kernel torch.Size([4, 4])\n",
            "to_rgbs.2.conv.weight torch.Size([1, 3, 512, 1, 1])\n",
            "to_rgbs.2.conv.modulation.weight torch.Size([512, 512])\n",
            "to_rgbs.2.conv.modulation.bias torch.Size([512])\n",
            "to_rgbs.3.bias torch.Size([1, 3, 1, 1])\n",
            "to_rgbs.3.upsample.kernel torch.Size([4, 4])\n",
            "to_rgbs.3.conv.weight torch.Size([1, 3, 256, 1, 1])\n",
            "to_rgbs.3.conv.modulation.weight torch.Size([256, 512])\n",
            "to_rgbs.3.conv.modulation.bias torch.Size([256])\n",
            "to_rgbs.4.bias torch.Size([1, 3, 1, 1])\n",
            "to_rgbs.4.upsample.kernel torch.Size([4, 4])\n",
            "to_rgbs.4.conv.weight torch.Size([1, 3, 128, 1, 1])\n",
            "to_rgbs.4.conv.modulation.weight torch.Size([128, 512])\n",
            "to_rgbs.4.conv.modulation.bias torch.Size([128])\n",
            "to_rgbs.5.bias torch.Size([1, 3, 1, 1])\n",
            "to_rgbs.5.upsample.kernel torch.Size([4, 4])\n",
            "to_rgbs.5.conv.weight torch.Size([1, 3, 64, 1, 1])\n",
            "to_rgbs.5.conv.modulation.weight torch.Size([64, 512])\n",
            "to_rgbs.5.conv.modulation.bias torch.Size([64])\n",
            "noises.noise_0 torch.Size([1, 1, 4, 4])\n",
            "noises.noise_1 torch.Size([1, 1, 8, 8])\n",
            "noises.noise_2 torch.Size([1, 1, 8, 8])\n",
            "noises.noise_3 torch.Size([1, 1, 16, 16])\n",
            "noises.noise_4 torch.Size([1, 1, 16, 16])\n",
            "noises.noise_5 torch.Size([1, 1, 32, 32])\n",
            "noises.noise_6 torch.Size([1, 1, 32, 32])\n",
            "noises.noise_7 torch.Size([1, 1, 64, 64])\n",
            "noises.noise_8 torch.Size([1, 1, 64, 64])\n",
            "noises.noise_9 torch.Size([1, 1, 128, 128])\n",
            "noises.noise_10 torch.Size([1, 1, 128, 128])\n",
            "noises.noise_11 torch.Size([1, 1, 256, 256])\n",
            "noises.noise_12 torch.Size([1, 1, 256, 256])\n",
            "/usr/local/lib/python3.9/dist-packages/torchvision/models/_utils.py:135: UserWarning: Using 'weights' as positional parameter(s) is deprecated since 0.13 and may be removed in the future. Please use keyword parameter(s) instead.\n",
            "  warnings.warn(\n",
            "/usr/local/lib/python3.9/dist-packages/torchvision/models/_utils.py:223: UserWarning: Arguments other than a weight enum or `None` for 'weights' are deprecated since 0.13 and may be removed in the future. The current behavior is equivalent to passing `weights=VGG16_Weights.IMAGENET1K_V1`. You can also use `weights=VGG16_Weights.DEFAULT` to get the most up-to-date weights.\n",
            "  warnings.warn(msg)\n",
            "/usr/local/lib/python3.9/dist-packages/torch/utils/data/dataloader.py:554: UserWarning: This DataLoader will create 8 worker processes in total. Our suggested max number of worker in current system is 2, which is smaller than what this DataLoader is going to create. Please be aware that excessive worker creation might get DataLoader running slow or even freeze, lower the worker number to avoid potential slowness/freeze if necessary.\n",
            "  warnings.warn(_create_warning_msg(\n",
            "100% 1/1 [01:18<00:00, 78.84s/it]\n"
          ]
        }
      ]
    },
    {
      "cell_type": "code",
      "source": [
        "import torch\n",
        "a = torch.load('./artifacts/sg2-ml-smile_256.pt', map_location=\"cpu\")"
      ],
      "metadata": {
        "id": "L6ahTE45_iuJ"
      },
      "execution_count": 17,
      "outputs": []
    },
    {
      "cell_type": "code",
      "source": [
        "!pip install torch_utils"
      ],
      "metadata": {
        "colab": {
          "base_uri": "https://localhost:8080/"
        },
        "id": "dXZe8_9rAPiC",
        "outputId": "d1f7f67d-6be9-4128-f234-59abc335ca47"
      },
      "execution_count": 21,
      "outputs": [
        {
          "output_type": "stream",
          "name": "stdout",
          "text": [
            "Looking in indexes: https://pypi.org/simple, https://us-python.pkg.dev/colab-wheels/public/simple/\n",
            "Collecting torch_utils\n",
            "  Downloading torch-utils-0.1.2.tar.gz (4.9 kB)\n",
            "  Preparing metadata (setup.py) ... \u001b[?25l\u001b[?25hdone\n",
            "Requirement already satisfied: torch in /usr/local/lib/python3.9/dist-packages (from torch_utils) (1.13.1+cu116)\n",
            "Requirement already satisfied: typing-extensions in /usr/local/lib/python3.9/dist-packages (from torch->torch_utils) (4.5.0)\n",
            "Building wheels for collected packages: torch_utils\n",
            "  Building wheel for torch_utils (setup.py) ... \u001b[?25l\u001b[?25hdone\n",
            "  Created wheel for torch_utils: filename=torch_utils-0.1.2-py3-none-any.whl size=6202 sha256=620fcd2cbb38ce80ae0eb447bb0486ef5bc82301591f622519a86606a475015d\n",
            "  Stored in directory: /root/.cache/pip/wheels/b9/ae/b4/56ed29da706ea5e0f79157a9b158aad24bfabd045ef42eed75\n",
            "Successfully built torch_utils\n",
            "Installing collected packages: torch_utils\n",
            "Successfully installed torch_utils-0.1.2\n"
          ]
        }
      ]
    },
    {
      "cell_type": "code",
      "source": [
        "b = torch.load('/content/GANInverter/artifacts/sg2-ml-smile_256_ot.pt')"
      ],
      "metadata": {
        "id": "mQSjp6pj_0Xx"
      },
      "execution_count": 25,
      "outputs": []
    },
    {
      "cell_type": "code",
      "source": [
        "for x in b['g_ema']:\n",
        "  print(x, b['g_ema'][x].shape)"
      ],
      "metadata": {
        "colab": {
          "base_uri": "https://localhost:8080/"
        },
        "id": "H_Ztd51z_oMi",
        "outputId": "64b94734-d20f-48aa-8f76-b4c567e50402"
      },
      "execution_count": 30,
      "outputs": [
        {
          "output_type": "stream",
          "name": "stdout",
          "text": [
            "style.1.weight torch.Size([512, 512])\n",
            "style.1.bias torch.Size([512])\n",
            "style.2.weight torch.Size([512, 512])\n",
            "style.2.bias torch.Size([512])\n",
            "style.3.weight torch.Size([512, 512])\n",
            "style.3.bias torch.Size([512])\n",
            "style.4.weight torch.Size([512, 512])\n",
            "style.4.bias torch.Size([512])\n",
            "style.5.weight torch.Size([512, 512])\n",
            "style.5.bias torch.Size([512])\n",
            "style.6.weight torch.Size([512, 512])\n",
            "style.6.bias torch.Size([512])\n",
            "style.7.weight torch.Size([512, 512])\n",
            "style.7.bias torch.Size([512])\n",
            "style.8.weight torch.Size([512, 512])\n",
            "style.8.bias torch.Size([512])\n",
            "input.input torch.Size([1, 512, 4, 4])\n",
            "conv1.conv.weight torch.Size([1, 512, 512, 3, 3])\n",
            "conv1.activate.bias torch.Size([512])\n",
            "conv1.conv.modulation.weight torch.Size([512, 512])\n",
            "conv1.conv.modulation.bias torch.Size([512])\n",
            "conv1.noise.weight torch.Size([1])\n",
            "noises.noise_0 torch.Size([1, 1, 4, 4])\n",
            "to_rgb1.conv.weight torch.Size([1, 3, 512, 1, 1])\n",
            "to_rgb1.bias torch.Size([1, 3, 1, 1])\n",
            "to_rgb1.conv.modulation.weight torch.Size([512, 512])\n",
            "to_rgb1.conv.modulation.bias torch.Size([512])\n",
            "convs.0.conv.weight torch.Size([1, 512, 512, 3, 3])\n",
            "convs.0.activate.bias torch.Size([512])\n",
            "convs.0.conv.modulation.weight torch.Size([512, 512])\n",
            "convs.0.conv.modulation.bias torch.Size([512])\n",
            "convs.0.noise.weight torch.Size([1])\n",
            "noises.noise_1 torch.Size([1, 1, 8, 8])\n",
            "convs.1.conv.weight torch.Size([1, 512, 512, 3, 3])\n",
            "convs.1.activate.bias torch.Size([512])\n",
            "convs.1.conv.modulation.weight torch.Size([512, 512])\n",
            "convs.1.conv.modulation.bias torch.Size([512])\n",
            "convs.1.noise.weight torch.Size([1])\n",
            "noises.noise_2 torch.Size([1, 1, 8, 8])\n",
            "to_rgbs.0.conv.weight torch.Size([1, 3, 512, 1, 1])\n",
            "to_rgbs.0.bias torch.Size([1, 3, 1, 1])\n",
            "to_rgbs.0.conv.modulation.weight torch.Size([512, 512])\n",
            "to_rgbs.0.conv.modulation.bias torch.Size([512])\n",
            "convs.0.conv.blur.kernel torch.Size([4, 4])\n",
            "to_rgbs.0.upsample.kernel torch.Size([4, 4])\n",
            "convs.2.conv.weight torch.Size([1, 512, 512, 3, 3])\n",
            "convs.2.activate.bias torch.Size([512])\n",
            "convs.2.conv.modulation.weight torch.Size([512, 512])\n",
            "convs.2.conv.modulation.bias torch.Size([512])\n",
            "convs.2.noise.weight torch.Size([1])\n",
            "noises.noise_3 torch.Size([1, 1, 16, 16])\n",
            "convs.3.conv.weight torch.Size([1, 512, 512, 3, 3])\n",
            "convs.3.activate.bias torch.Size([512])\n",
            "convs.3.conv.modulation.weight torch.Size([512, 512])\n",
            "convs.3.conv.modulation.bias torch.Size([512])\n",
            "convs.3.noise.weight torch.Size([1])\n",
            "noises.noise_4 torch.Size([1, 1, 16, 16])\n",
            "to_rgbs.1.conv.weight torch.Size([1, 3, 512, 1, 1])\n",
            "to_rgbs.1.bias torch.Size([1, 3, 1, 1])\n",
            "to_rgbs.1.conv.modulation.weight torch.Size([512, 512])\n",
            "to_rgbs.1.conv.modulation.bias torch.Size([512])\n",
            "convs.2.conv.blur.kernel torch.Size([4, 4])\n",
            "to_rgbs.1.upsample.kernel torch.Size([4, 4])\n",
            "convs.4.conv.weight torch.Size([1, 512, 512, 3, 3])\n",
            "convs.4.activate.bias torch.Size([512])\n",
            "convs.4.conv.modulation.weight torch.Size([512, 512])\n",
            "convs.4.conv.modulation.bias torch.Size([512])\n",
            "convs.4.noise.weight torch.Size([1])\n",
            "noises.noise_5 torch.Size([1, 1, 32, 32])\n",
            "convs.5.conv.weight torch.Size([1, 512, 512, 3, 3])\n",
            "convs.5.activate.bias torch.Size([512])\n",
            "convs.5.conv.modulation.weight torch.Size([512, 512])\n",
            "convs.5.conv.modulation.bias torch.Size([512])\n",
            "convs.5.noise.weight torch.Size([1])\n",
            "noises.noise_6 torch.Size([1, 1, 32, 32])\n",
            "to_rgbs.2.conv.weight torch.Size([1, 3, 512, 1, 1])\n",
            "to_rgbs.2.bias torch.Size([1, 3, 1, 1])\n",
            "to_rgbs.2.conv.modulation.weight torch.Size([512, 512])\n",
            "to_rgbs.2.conv.modulation.bias torch.Size([512])\n",
            "convs.4.conv.blur.kernel torch.Size([4, 4])\n",
            "to_rgbs.2.upsample.kernel torch.Size([4, 4])\n",
            "convs.6.conv.weight torch.Size([1, 256, 512, 3, 3])\n",
            "convs.6.activate.bias torch.Size([256])\n",
            "convs.6.conv.modulation.weight torch.Size([512, 512])\n",
            "convs.6.conv.modulation.bias torch.Size([512])\n",
            "convs.6.noise.weight torch.Size([1])\n",
            "noises.noise_7 torch.Size([1, 1, 64, 64])\n",
            "convs.7.conv.weight torch.Size([1, 256, 256, 3, 3])\n",
            "convs.7.activate.bias torch.Size([256])\n",
            "convs.7.conv.modulation.weight torch.Size([256, 512])\n",
            "convs.7.conv.modulation.bias torch.Size([256])\n",
            "convs.7.noise.weight torch.Size([1])\n",
            "noises.noise_8 torch.Size([1, 1, 64, 64])\n",
            "to_rgbs.3.conv.weight torch.Size([1, 3, 256, 1, 1])\n",
            "to_rgbs.3.bias torch.Size([1, 3, 1, 1])\n",
            "to_rgbs.3.conv.modulation.weight torch.Size([256, 512])\n",
            "to_rgbs.3.conv.modulation.bias torch.Size([256])\n",
            "convs.6.conv.blur.kernel torch.Size([4, 4])\n",
            "to_rgbs.3.upsample.kernel torch.Size([4, 4])\n",
            "convs.8.conv.weight torch.Size([1, 128, 256, 3, 3])\n",
            "convs.8.activate.bias torch.Size([128])\n",
            "convs.8.conv.modulation.weight torch.Size([256, 512])\n",
            "convs.8.conv.modulation.bias torch.Size([256])\n",
            "convs.8.noise.weight torch.Size([1])\n",
            "noises.noise_9 torch.Size([1, 1, 128, 128])\n",
            "convs.9.conv.weight torch.Size([1, 128, 128, 3, 3])\n",
            "convs.9.activate.bias torch.Size([128])\n",
            "convs.9.conv.modulation.weight torch.Size([128, 512])\n",
            "convs.9.conv.modulation.bias torch.Size([128])\n",
            "convs.9.noise.weight torch.Size([1])\n",
            "noises.noise_10 torch.Size([1, 1, 128, 128])\n",
            "to_rgbs.4.conv.weight torch.Size([1, 3, 128, 1, 1])\n",
            "to_rgbs.4.bias torch.Size([1, 3, 1, 1])\n",
            "to_rgbs.4.conv.modulation.weight torch.Size([128, 512])\n",
            "to_rgbs.4.conv.modulation.bias torch.Size([128])\n",
            "convs.8.conv.blur.kernel torch.Size([4, 4])\n",
            "to_rgbs.4.upsample.kernel torch.Size([4, 4])\n",
            "convs.10.conv.weight torch.Size([1, 64, 128, 3, 3])\n",
            "convs.10.activate.bias torch.Size([64])\n",
            "convs.10.conv.modulation.weight torch.Size([128, 512])\n",
            "convs.10.conv.modulation.bias torch.Size([128])\n",
            "convs.10.noise.weight torch.Size([1])\n",
            "noises.noise_11 torch.Size([1, 1, 256, 256])\n",
            "convs.11.conv.weight torch.Size([1, 64, 64, 3, 3])\n",
            "convs.11.activate.bias torch.Size([64])\n",
            "convs.11.conv.modulation.weight torch.Size([64, 512])\n",
            "convs.11.conv.modulation.bias torch.Size([64])\n",
            "convs.11.noise.weight torch.Size([1])\n",
            "noises.noise_12 torch.Size([1, 1, 256, 256])\n",
            "to_rgbs.5.conv.weight torch.Size([1, 3, 64, 1, 1])\n",
            "to_rgbs.5.bias torch.Size([1, 3, 1, 1])\n",
            "to_rgbs.5.conv.modulation.weight torch.Size([64, 512])\n",
            "to_rgbs.5.conv.modulation.bias torch.Size([64])\n",
            "convs.10.conv.blur.kernel torch.Size([4, 4])\n",
            "to_rgbs.5.upsample.kernel torch.Size([4, 4])\n"
          ]
        }
      ]
    },
    {
      "cell_type": "code",
      "source": [],
      "metadata": {
        "id": "2pakZb6F_pNe"
      },
      "execution_count": null,
      "outputs": []
    }
  ]
}